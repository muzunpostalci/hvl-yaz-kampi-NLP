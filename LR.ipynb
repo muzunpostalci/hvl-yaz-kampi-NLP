{
 "cells": [
  {
   "cell_type": "markdown",
   "metadata": {},
   "source": [
    "# Sentiment Analysis"
   ]
  },
  {
   "cell_type": "markdown",
   "metadata": {},
   "source": [
    "- Read preprocessed data\n",
    "- Split Data into train and test\n",
    "- Create vocab\n",
    "- Create frequencies\n",
    "- Extract Features\n",
    "- Train Logistic Regression"
   ]
  },
  {
   "cell_type": "code",
   "execution_count": 1,
   "metadata": {},
   "outputs": [],
   "source": [
    "import json"
   ]
  },
  {
   "cell_type": "code",
   "execution_count": 2,
   "metadata": {},
   "outputs": [],
   "source": [
    "with open(\"pos.json\", 'r') as f:\n",
    "    positive_tweets = json.load(f)\n",
    "    \n",
    "with open(\"neg.json\", 'r') as f:\n",
    "    negative_tweets = json.load(f)"
   ]
  },
  {
   "cell_type": "code",
   "execution_count": 3,
   "metadata": {},
   "outputs": [
    {
     "data": {
      "text/plain": [
       "5000"
      ]
     },
     "execution_count": 3,
     "metadata": {},
     "output_type": "execute_result"
    }
   ],
   "source": [
    "len(positive_tweets)"
   ]
  },
  {
   "cell_type": "code",
   "execution_count": 4,
   "metadata": {},
   "outputs": [
    {
     "data": {
      "text/plain": [
       "5000"
      ]
     },
     "execution_count": 4,
     "metadata": {},
     "output_type": "execute_result"
    }
   ],
   "source": [
    "len(negative_tweets)"
   ]
  },
  {
   "cell_type": "code",
   "execution_count": 59,
   "metadata": {},
   "outputs": [],
   "source": [
    "train_tweets = positive_tweets[:4000] + negative_tweets[:4000]\n",
    "train_y = [1 for i in range(4000)] + [0 for i in range(4000)]\n",
    "test_tweets = positive_tweets[4000:] + negative_tweets[4000:]\n",
    "test_y = [1 for i in range(1000)] + [0 for i in range(1000)]"
   ]
  },
  {
   "cell_type": "code",
   "execution_count": 17,
   "metadata": {},
   "outputs": [],
   "source": [
    "vocab = {}\n",
    "for tweet in positive_tweets[:4000]:\n",
    "    for word in tweet:\n",
    "        if (word,1) not in vocab:\n",
    "            vocab[(word,1)] = 1\n",
    "        else:\n",
    "            vocab[(word,1)] += 1\n",
    "\n",
    "for tweet in negative_tweets[:4000]:\n",
    "    for word in tweet:\n",
    "        if (word,0) not in vocab:\n",
    "            vocab[(word,0)] = 1\n",
    "        else:\n",
    "            vocab[(word,0)] += 1"
   ]
  },
  {
   "cell_type": "code",
   "execution_count": 26,
   "metadata": {},
   "outputs": [],
   "source": [
    "def extract_features(tweet_list):\n",
    "    features_list = []\n",
    "    for tweet in tweet_list:\n",
    "        pos = 0\n",
    "        neg = 0\n",
    "        for word in tweet:\n",
    "            if (word,1) in vocab:\n",
    "                pos += vocab[(word,1)]\n",
    "            if (word,0) in vocab:\n",
    "                neg += vocab[(word,0)]\n",
    "        features_list.append([1,pos,neg])\n",
    "    return features_list"
   ]
  },
  {
   "cell_type": "code",
   "execution_count": 32,
   "metadata": {},
   "outputs": [],
   "source": [
    "train_x = extract_features(train_tweets)\n",
    "test_x = extract_features(test_tweets)"
   ]
  },
  {
   "cell_type": "code",
   "execution_count": 35,
   "metadata": {},
   "outputs": [],
   "source": [
    "from sklearn.linear_model import LogisticRegression"
   ]
  },
  {
   "cell_type": "code",
   "execution_count": 75,
   "metadata": {},
   "outputs": [],
   "source": [
    "clf = LogisticRegression().fit(train_x, train_y)"
   ]
  },
  {
   "cell_type": "code",
   "execution_count": 76,
   "metadata": {},
   "outputs": [],
   "source": [
    "yhat = clf.predict(test_x)"
   ]
  },
  {
   "cell_type": "code",
   "execution_count": 77,
   "metadata": {},
   "outputs": [],
   "source": [
    "correct = 0\n",
    "for i in range(len(test_y)):\n",
    "    if yhat[i] == test_y[i]:\n",
    "        correct += 1"
   ]
  },
  {
   "cell_type": "code",
   "execution_count": 111,
   "metadata": {},
   "outputs": [],
   "source": [
    "testing = [[\"i\",\"love\",\"learning\",\"nlp\"], [\"i\",\"hate\",\"nlp\",\":(\"]]"
   ]
  },
  {
   "cell_type": "code",
   "execution_count": 117,
   "metadata": {},
   "outputs": [
    {
     "data": {
      "text/plain": [
       "array([1, 0])"
      ]
     },
     "execution_count": 117,
     "metadata": {},
     "output_type": "execute_result"
    }
   ],
   "source": [
    "clf.predict(extract_features(testing))"
   ]
  },
  {
   "cell_type": "code",
   "execution_count": null,
   "metadata": {},
   "outputs": [],
   "source": []
  }
 ],
 "metadata": {
  "kernelspec": {
   "display_name": "Python 3",
   "language": "python",
   "name": "python3"
  },
  "language_info": {
   "codemirror_mode": {
    "name": "ipython",
    "version": 3
   },
   "file_extension": ".py",
   "mimetype": "text/x-python",
   "name": "python",
   "nbconvert_exporter": "python",
   "pygments_lexer": "ipython3",
   "version": "3.8.5"
  }
 },
 "nbformat": 4,
 "nbformat_minor": 4
}
