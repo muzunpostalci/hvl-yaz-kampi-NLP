{
 "cells": [
  {
   "cell_type": "markdown",
   "metadata": {},
   "source": [
    "### Autocorrect"
   ]
  },
  {
   "cell_type": "markdown",
   "metadata": {},
   "source": [
    "- Read data\n",
    "- Preprocess\n",
    "- Create vocab\n",
    "- Calculate probabilites\n",
    "- Implement Minimum Edit Distance\n",
    "- Implement Autocorrect System using Minimum Edit Distance\n"
   ]
  },
  {
   "cell_type": "code",
   "execution_count": 1,
   "metadata": {},
   "outputs": [],
   "source": [
    "with open(\"shakespeare.txt\", 'r') as f:\n",
    "    data = f.read()"
   ]
  },
  {
   "cell_type": "code",
   "execution_count": 2,
   "metadata": {},
   "outputs": [
    {
     "data": {
      "text/plain": [
       "'O for a Muse of fire, that would ascend\\nThe bright'"
      ]
     },
     "execution_count": 2,
     "metadata": {},
     "output_type": "execute_result"
    }
   ],
   "source": [
    "data[:50]"
   ]
  },
  {
   "cell_type": "code",
   "execution_count": 3,
   "metadata": {},
   "outputs": [],
   "source": [
    "data = data.lower()"
   ]
  },
  {
   "cell_type": "code",
   "execution_count": 4,
   "metadata": {},
   "outputs": [
    {
     "data": {
      "text/plain": [
       "'o for a muse of fire, that would ascend\\nthe bright'"
      ]
     },
     "execution_count": 4,
     "metadata": {},
     "output_type": "execute_result"
    }
   ],
   "source": [
    "data[:50]"
   ]
  },
  {
   "cell_type": "code",
   "execution_count": 5,
   "metadata": {},
   "outputs": [],
   "source": [
    "data = data.replace('\\n', ' ')"
   ]
  },
  {
   "cell_type": "code",
   "execution_count": null,
   "metadata": {},
   "outputs": [],
   "source": [
    "data[:200]"
   ]
  },
  {
   "cell_type": "code",
   "execution_count": 36,
   "metadata": {},
   "outputs": [],
   "source": [
    "processed = \"\"\n",
    "for char in data:\n",
    "    if char.isalnum() or char == ' ':\n",
    "        processed += char"
   ]
  },
  {
   "cell_type": "code",
   "execution_count": 50,
   "metadata": {},
   "outputs": [],
   "source": [
    "word_list = processed.split()"
   ]
  },
  {
   "cell_type": "code",
   "execution_count": null,
   "metadata": {},
   "outputs": [],
   "source": [
    "word_list[:10]"
   ]
  },
  {
   "cell_type": "code",
   "execution_count": null,
   "metadata": {},
   "outputs": [],
   "source": [
    "len(word_list)"
   ]
  },
  {
   "cell_type": "code",
   "execution_count": 56,
   "metadata": {},
   "outputs": [],
   "source": [
    "vocab = set(word_list)"
   ]
  },
  {
   "cell_type": "code",
   "execution_count": null,
   "metadata": {},
   "outputs": [],
   "source": [
    "len(vocab)"
   ]
  },
  {
   "cell_type": "code",
   "execution_count": 66,
   "metadata": {},
   "outputs": [],
   "source": [
    "counts = {}\n",
    "for word in vocab:\n",
    "    counts[word] = word_list.count(word)"
   ]
  },
  {
   "cell_type": "code",
   "execution_count": null,
   "metadata": {},
   "outputs": [],
   "source": [
    "counts"
   ]
  },
  {
   "cell_type": "code",
   "execution_count": 71,
   "metadata": {},
   "outputs": [],
   "source": [
    "probs = {}\n",
    "total = len(word_list)\n",
    "for word in vocab:\n",
    "    probs[word] = counts[word] / total"
   ]
  },
  {
   "cell_type": "code",
   "execution_count": null,
   "metadata": {},
   "outputs": [],
   "source": [
    "probs"
   ]
  },
  {
   "cell_type": "code",
   "execution_count": 142,
   "metadata": {},
   "outputs": [],
   "source": [
    "def print_table(table,w1,w2):\n",
    "    df = pd.DataFrame(table, columns=[\"#\"]+list(w1), index=['#']+list(w2))\n",
    "    print(df)"
   ]
  },
  {
   "cell_type": "code",
   "execution_count": 169,
   "metadata": {},
   "outputs": [],
   "source": [
    "w1 = \"play\"\n",
    "w2 = \"cla\""
   ]
  },
  {
   "cell_type": "code",
   "execution_count": 190,
   "metadata": {},
   "outputs": [
    {
     "name": "stdout",
     "output_type": "stream",
     "text": [
      "   #  p  l  a  y\n",
      "#  0  1  2  3  4\n",
      "c  1  2  3  4  5\n",
      "l  2  3  2  3  4\n",
      "a  3  4  3  2  3\n"
     ]
    }
   ],
   "source": [
    "print_table(table,w1,w2)"
   ]
  },
  {
   "cell_type": "code",
   "execution_count": 237,
   "metadata": {},
   "outputs": [],
   "source": [
    "def med(w1,w2):\n",
    "    table = [[0 for i in range(len(w1)+1)] for j in range(len(w2)+1)]\n",
    "\n",
    "    table[0] = [i for i in range(len(w1)+1)] \n",
    "\n",
    "    for i in range(len(w2) + 1):\n",
    "        for j in range(len(w1) + 1):\n",
    "            if j == 0:\n",
    "                table[i][j] = i\n",
    "\n",
    "    for i in range(1, len(w2)+1):\n",
    "        for j in range(1, len(w1)+1):\n",
    "            candidates = []\n",
    "            candidates.append(table[i-1][j] + 1)\n",
    "            candidates.append(table[i][j-1] + 1)\n",
    "            if w1[j-1] == w2[i-1]:\n",
    "                candidates.append(table[i-1][j-1])\n",
    "            else:\n",
    "                candidates.append(table[i-1][j-1] + 1)\n",
    "            table[i][j] = min(candidates)\n",
    "    return table[-1][-1]"
   ]
  },
  {
   "cell_type": "code",
   "execution_count": 224,
   "metadata": {},
   "outputs": [],
   "source": [
    "input_str = \"My deah fried\""
   ]
  },
  {
   "cell_type": "code",
   "execution_count": 249,
   "metadata": {},
   "outputs": [],
   "source": [
    "input_list = ['my','deah','fried', 'hows', 'are', 'yoo']"
   ]
  },
  {
   "cell_type": "code",
   "execution_count": 253,
   "metadata": {},
   "outputs": [
    {
     "name": "stdout",
     "output_type": "stream",
     "text": [
      "my dear friend how are you "
     ]
    }
   ],
   "source": [
    "for inp_word in input_list:\n",
    "    if inp_word in vocab:\n",
    "        print(inp_word + \" \", end='')\n",
    "    else:\n",
    "        mn = 999\n",
    "        candidate_words = []\n",
    "        for word in vocab:\n",
    "            edit_distance = med(inp_word, word)\n",
    "            if edit_distance < mn:\n",
    "                candidate_words = [word]\n",
    "                mn = edit_distance\n",
    "            elif edit_distance == mn:\n",
    "                candidate_words.append(word)\n",
    "        mx = 0\n",
    "        for candidate in candidate_words:\n",
    "            if probs[candidate] > mx:\n",
    "                mx = probs[candidate]\n",
    "                selected = candidate\n",
    "        print(selected + \" \", end='')"
   ]
  },
  {
   "cell_type": "code",
   "execution_count": null,
   "metadata": {},
   "outputs": [],
   "source": []
  }
 ],
 "metadata": {
  "kernelspec": {
   "display_name": "Python 3",
   "language": "python",
   "name": "python3"
  },
  "language_info": {
   "codemirror_mode": {
    "name": "ipython",
    "version": 3
   },
   "file_extension": ".py",
   "mimetype": "text/x-python",
   "name": "python",
   "nbconvert_exporter": "python",
   "pygments_lexer": "ipython3",
   "version": "3.8.5"
  }
 },
 "nbformat": 4,
 "nbformat_minor": 4
}
